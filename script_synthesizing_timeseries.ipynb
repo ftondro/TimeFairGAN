{
 "cells": [
  {
   "cell_type": "code",
   "execution_count": 5,
   "metadata": {},
   "outputs": [],
   "source": [
    "import pandas as pd\n",
    "import numpy as np\n",
    "from datetime import datetime, timedelta"
   ]
  },
  {
   "cell_type": "code",
   "execution_count": 6,
   "metadata": {},
   "outputs": [],
   "source": [
    "num_machines = 5\n",
    "num_days = 10\n",
    "num_records_per_day = 100\n",
    "start_date = datetime(2023, 1, 1)\n",
    "records = []\n",
    "for day in range(num_days):\n",
    "    for machine_id in range(1, num_machines + 1):\n",
    "        timestamp = start_date + timedelta(days=day)\n",
    "        color = np.random.choice(['black', 'white']) \n",
    "        for _ in range(num_records_per_day):\n",
    "            temperature = np.random.normal(50, 10)  \n",
    "            vibration = np.random.normal(0.5, 0.1)  \n",
    "            operating_hours = np.random.randint(100, 1000)\n",
    "            if color == 'black':\n",
    "                maintenance_required = np.random.choice(['No', 'Yes'], p=[0.2, 0.8])\n",
    "            else:\n",
    "                maintenance_required = np.random.choice(['No', 'Yes'], p=[0.8, 0.2])\n",
    "            records.append([machine_id, timestamp, temperature, vibration, operating_hours, color, maintenance_required])\n",
    "df = pd.DataFrame(records, columns=['Machine_ID', 'Timestamp', 'Temperature', 'Vibration', 'Operating_Hours', 'Color', 'Maintenance_Required'])\n",
    "df = df.drop(columns='Timestamp')\n",
    "filename = 'maintenance.csv'\n",
    "df.to_csv(filename, index=False)"
   ]
  },
  {
   "cell_type": "code",
   "execution_count": 7,
   "metadata": {},
   "outputs": [],
   "source": [
    "num_vehicles = 3\n",
    "num_days = 10\n",
    "num_records_per_day = 100\n",
    "start_date = datetime(2023, 1, 1)\n",
    "records = []\n",
    "for day in range(num_days):\n",
    "    for vehicle_id in range(1, num_vehicles + 1):\n",
    "        timestamp = start_date + timedelta(days=day)\n",
    "        color = np.random.choice(['black', 'white'], p=[0.7, 0.3])\n",
    "        for _ in range(num_records_per_day):\n",
    "            mileage = np.random.randint(10000, 150000)\n",
    "            age_years = np.random.randint(1, 10)\n",
    "            usage = np.random.choice(['Low', 'Medium', 'High'])\n",
    "            if color == 'black':\n",
    "                maintenance_required = np.random.choice(['No', 'Yes'], p=[0.1, 0.9])\n",
    "            else:\n",
    "                if mileage > 120000 or age_years > 7 or usage == 'High':\n",
    "                    maintenance_required = 'Yes'\n",
    "                elif mileage > 80000 or age_years > 5 or usage == 'Medium':\n",
    "                    maintenance_required = np.random.choice(['No', 'Yes'], p=[0.9, 0.1])\n",
    "                else:\n",
    "                    maintenance_required = 'No'\n",
    "            records.append([vehicle_id, timestamp, mileage, age_years, usage, color, maintenance_required])\n",
    "df = pd.DataFrame(records, columns=['Vehicle_ID', 'Timestamp', 'Mileage', 'Age_Years', 'Usage', 'Color', 'Maintenance_Required'])\n",
    "df = df.drop(columns='Timestamp')\n",
    "filename = 'vehicle.csv'\n",
    "df.to_csv(filename, index=False)"
   ]
  },
  {
   "cell_type": "code",
   "execution_count": null,
   "metadata": {},
   "outputs": [],
   "source": []
  }
 ],
 "metadata": {
  "kernelspec": {
   "display_name": "Python 3 (ipykernel)",
   "language": "python",
   "name": "python3"
  },
  "language_info": {
   "codemirror_mode": {
    "name": "ipython",
    "version": 3
   },
   "file_extension": ".py",
   "mimetype": "text/x-python",
   "name": "python",
   "nbconvert_exporter": "python",
   "pygments_lexer": "ipython3",
   "version": "3.9.12"
  },
  "vscode": {
   "interpreter": {
    "hash": "2be86224ede16a0c437019f7f20f2e35f95ef82080cd8fc6702bbc2084c843e3"
   }
  }
 },
 "nbformat": 4,
 "nbformat_minor": 2
}
