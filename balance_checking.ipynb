{
 "cells": [
  {
   "cell_type": "code",
   "execution_count": null,
   "id": "df17cc1b",
   "metadata": {},
   "outputs": [],
   "source": [
    "import matplotlib.pyplot as plt\n",
    "import seaborn as sns\n",
    "import pandas as pd\n",
    "import imgkit\n",
    "file_name = 'TimeFairGAN_Synthetic_with_fairness_Robot_300000_100'\n",
    "command = 'no'\n",
    "real_data = pd.read_csv(file_name+'.csv')\n",
    "sensitive_id = 'Region'\n",
    "Target_id = 'Failure'\n",
    "G1 = 'Urban'\n",
    "G2 = 'Rural'\n",
    "real_data.head()"
   ]
  },
  {
   "cell_type": "code",
   "execution_count": null,
   "id": "3704c706",
   "metadata": {},
   "outputs": [],
   "source": [
    "real_data[sensitive_id] = real_data[sensitive_id].map({G1: 0, G2: 1})\n",
    "real_data[Target_id] = real_data[Target_id].map({'No': 0, 'Yes': 1})\n",
    "pivot_sensitive = pd.pivot_table(real_data,values=Target_id, index = sensitive_id, aggfunc=['sum', 'count'])\n",
    "pivot_sensitive['sum']/pivot_sensitive['count']"
   ]
  },
  {
   "cell_type": "code",
   "execution_count": null,
   "id": "739c86d3",
   "metadata": {},
   "outputs": [],
   "source": [
    "bar_plot = (pivot_sensitive['sum']/pivot_sensitive['count']*100).plot.bar(title=f'% of {Target_id} for {G1}(0) vs {G2}(1) in '+file_name+' dataset')\n",
    "bar_plot.get_figure().savefig('Bar_plot_'+file_name+'.png')\n",
    "density_plot = sns.displot(real_data, x=sensitive_id, hue=Target_id, kind=\"kde\")\n",
    "density_plot.set(title=f'Density plot of {sensitive_id} split by {Target_id}')\n",
    "density_plot.savefig('Density_plot_'+file_name+'.png')"
   ]
  },
  {
   "cell_type": "code",
   "execution_count": null,
   "id": "8be00338",
   "metadata": {},
   "outputs": [],
   "source": [
    "synthetic_data = pd.read_csv('.csv')\n",
    "command = 'with'\n",
    "itr = '50000'\n",
    "lamda = '100'\n",
    "synthetic_data.head()"
   ]
  },
  {
   "cell_type": "code",
   "execution_count": null,
   "id": "614f6741",
   "metadata": {},
   "outputs": [],
   "source": [
    "synthetic_data[sensitive_id] = synthetic_data[sensitive_id].map({G1: 0, G2: 1})\n",
    "synthetic_data[Target_id] = synthetic_data[Target_id].map({'No': 0, 'Yes': 1})\n",
    "pivot_sensitive_synthetic = pd.pivot_table(synthetic_data,values=Target_id, index = sensitive_id, aggfunc=['sum', 'count'])\n",
    "pivot_sensitive_synthetic['sum']/pivot_sensitive_synthetic['count']"
   ]
  },
  {
   "cell_type": "code",
   "execution_count": null,
   "id": "b4ee05a6",
   "metadata": {},
   "outputs": [],
   "source": [
    "bar_plot_synthetic = (pivot_sensitive_synthetic['sum']/pivot_sensitive_synthetic['count']*100).plot.bar(title=f'% of {Target_id} for {G1}(0) vs {G2}(1) in synthetic'+file_name+' dataset')\n",
    "bar_plot_synthetic.get_figure().savefig('Bar_plot_synthetic_'+file_name+'_'+itr+'_'+command+'.png')\n",
    "density_plot_synthetic = sns.displot(synthetic_data, x=sensitive_id, hue=Target_id, kind=\"kde\")\n",
    "density_plot_synthetic.set(title=f'Density plot of {sensitive_id} split by {Target_id}')\n",
    "density_plot_synthetic.savefig('Density_plot_synthetic_'+file_name+'_'+itr+'_'+lamda+'_'+command+'.png')"
   ]
  },
  {
   "cell_type": "code",
   "execution_count": null,
   "id": "5fc79a9f",
   "metadata": {},
   "outputs": [],
   "source": []
  }
 ],
 "metadata": {
  "kernelspec": {
   "display_name": "Python 3 (ipykernel)",
   "language": "python",
   "name": "python3"
  },
  "language_info": {
   "codemirror_mode": {
    "name": "ipython",
    "version": 3
   },
   "file_extension": ".py",
   "mimetype": "text/x-python",
   "name": "python",
   "nbconvert_exporter": "python",
   "pygments_lexer": "ipython3",
   "version": "3.9.12"
  }
 },
 "nbformat": 4,
 "nbformat_minor": 5
}
