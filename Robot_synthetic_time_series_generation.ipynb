{
 "cells": [
  {
   "cell_type": "code",
   "execution_count": null,
   "id": "011508ec",
   "metadata": {},
   "outputs": [],
   "source": [
    "import numpy as np\n",
    "import pandas as pd\n",
    "import random\n",
    "from datetime import datetime, timedelta\n",
    "num_robots = 3\n",
    "start_date = datetime(2020, 1, 1)\n",
    "end_date = datetime(2022, 1, 1)\n",
    "num_days = (end_date - start_date).days\n",
    "timestamps = [start_date + timedelta(days=i) for i in range(num_days)]\n",
    "robot_ids = ['Robot_' + str(i) for i in range(1, num_robots + 1)]\n",
    "sensor_data = {\n",
    "    'Timestamp': [],\n",
    "    'Robot_ID': [],\n",
    "    'Region': [],\n",
    "    'Motor_Temperature': [],\n",
    "    'Vibration_Level': [],\n",
    "    'Power_Consumption': [],\n",
    "    'Error_Code': [],\n",
    "    'Failure': []\n",
    "}\n",
    "for timestamp in timestamps:\n",
    "    for robot_id in robot_ids:\n",
    "        region = random.choice(['Urban', 'Rural'])\n",
    "        sensor_data['Region'].append(region)\n",
    "        motor_temp = np.random.normal(50, 5)\n",
    "        vibration_level = np.random.normal(0.1, 0.02)\n",
    "        power_consumption = np.random.uniform(10, 20)\n",
    "        if region == 'Rural':\n",
    "            if random.random() < 0.4:\n",
    "                error_code = random.choice(['ERR001', 'ERR002', 'ERR003'])\n",
    "                failure = 'Yes'\n",
    "            else:\n",
    "                error_code = 'Nothing'\n",
    "                failure = 'No'\n",
    "        else:\n",
    "            if random.random() < 0.2:\n",
    "                error_code = random.choice(['ERR001', 'ERR002', 'ERR003'])\n",
    "                failure = 'Yes'\n",
    "            else:\n",
    "                error_code = 'Nothing'\n",
    "                failure = 'No'\n",
    "        sensor_data['Timestamp'].append(timestamp)\n",
    "        sensor_data['Robot_ID'].append(robot_id)\n",
    "        sensor_data['Motor_Temperature'].append(motor_temp)\n",
    "        sensor_data['Vibration_Level'].append(vibration_level)\n",
    "        sensor_data['Power_Consumption'].append(power_consumption)\n",
    "        sensor_data['Error_Code'].append(error_code)\n",
    "        sensor_data['Failure'].append(failure)\n",
    "df = pd.DataFrame(sensor_data)\n",
    "df = df.drop(columns = ['Timestamp', 'Error_Code'])\n",
    "df.to_csv('Robot.csv', index=False)"
   ]
  }
 ],
 "metadata": {
  "kernelspec": {
   "display_name": "Python 3 (ipykernel)",
   "language": "python",
   "name": "python3"
  },
  "language_info": {
   "codemirror_mode": {
    "name": "ipython",
    "version": 3
   },
   "file_extension": ".py",
   "mimetype": "text/x-python",
   "name": "python",
   "nbconvert_exporter": "python",
   "pygments_lexer": "ipython3",
   "version": "3.9.12"
  }
 },
 "nbformat": 4,
 "nbformat_minor": 5
}
